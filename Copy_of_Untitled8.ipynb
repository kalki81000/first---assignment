{
  "nbformat": 4,
  "nbformat_minor": 0,
  "metadata": {
    "colab": {
      "provenance": [],
      "authorship_tag": "ABX9TyMghvr5H/HqmmB83bFu4IqI",
      "include_colab_link": true
    },
    "kernelspec": {
      "name": "python3",
      "display_name": "Python 3"
    },
    "language_info": {
      "name": "python"
    }
  },
  "cells": [
    {
      "cell_type": "markdown",
      "metadata": {
        "id": "view-in-github",
        "colab_type": "text"
      },
      "source": [
        "<a href=\"https://colab.research.google.com/github/kalki81000/first---assignment/blob/main/Copy_of_Untitled8.ipynb\" target=\"_parent\"><img src=\"https://colab.research.google.com/assets/colab-badge.svg\" alt=\"Open In Colab\"/></a>"
      ]
    },
    {
      "cell_type": "code",
      "execution_count": null,
      "metadata": {
        "colab": {
          "base_uri": "https://localhost:8080/"
        },
        "id": "hrN1Gbr_ke1P",
        "outputId": "4d07a0d5-7b30-4413-daad-4ecb1480af5a"
      },
      "outputs": [
        {
          "output_type": "stream",
          "name": "stdout",
          "text": [
            "dlrow,olleH\n"
          ]
        }
      ],
      "source": [
        "#1. write a code to reverse a string\n",
        "string = \"Hello,world\"\n",
        "reversed_string = string[::-1]\n",
        "print(reversed_string)"
      ]
    },
    {
      "cell_type": "code",
      "source": [
        "#2. Write a code to count the number of vowels in a string\n",
        "string = \"Hello,world\"\n",
        "vowels ='aeiouAEIOU'\n",
        "count = sum(char in vowels for char in string)\n",
        "print(count)\n",
        "\n"
      ],
      "metadata": {
        "colab": {
          "base_uri": "https://localhost:8080/"
        },
        "id": "rFdAOW-WlA5O",
        "outputId": "c5de6a81-0b9b-4532-c379-0f8ec9ce6e73"
      },
      "execution_count": null,
      "outputs": [
        {
          "output_type": "stream",
          "name": "stdout",
          "text": [
            "3\n"
          ]
        }
      ]
    },
    {
      "cell_type": "code",
      "source": [
        "#3.write a code to check if a given string is a palindrome or not\n",
        "string = \"racecar\"\n",
        "is_palindrome = string ==string[::-1]\n",
        "print(is_palindrome)"
      ],
      "metadata": {
        "colab": {
          "base_uri": "https://localhost:8080/"
        },
        "id": "dJYKdKM4mHU2",
        "outputId": "945c825e-b509-4721-f12c-7e66f8da4cbd"
      },
      "execution_count": null,
      "outputs": [
        {
          "output_type": "stream",
          "name": "stdout",
          "text": [
            "True\n"
          ]
        }
      ]
    },
    {
      "cell_type": "code",
      "source": [
        "#4. Write a code to check if two given string are anagrams of each other\n",
        "string1 = \"listen\"\n",
        "string = \"silent\"\n",
        "are_anagrams = sorted(string1.replace('',\").lower ())==sorted(string2.replace('',\").lower())\n",
        "print(are_anagrams)\n"
      ],
      "metadata": {
        "colab": {
          "base_uri": "https://localhost:8080/"
        },
        "id": "4j6r2H7vmRBd",
        "outputId": "c4b4b8c3-82cd-4464-f470-5c6384d635d4"
      },
      "execution_count": null,
      "outputs": [
        {
          "output_type": "stream",
          "name": "stdout",
          "text": [
            "[' ', ' ', ' ', ' ', ' ', ' ', ' ', \"'\", \"'\", \"'\", \"'\", \"'\", \"'\", \"'\", \"'\", \"'\", \"'\", \"'\", \"'\", \"'\", \"'\", '(', '(', '(', '(', '(', '(', '(', '(', '(', '(', '(', '(', '(', '(', '(', '(', '(', '(', '(', '(', '(', ')', ')', ')', ')', ')', ')', ')', ')', ')', ')', ')', ')', ')', ')', ')', ')', ')', ')', ')', ')', ')', ',', ',', ',', ',', ',', ',', ',', '.', '.', '.', '.', '.', '.', '.', '.', '.', '.', '.', '.', '.', '.', '2', '2', '2', '2', '2', '2', '2', '=', '=', '=', '=', '=', '=', '=', '=', '=', '=', '=', '=', '=', '=', 'a', 'a', 'a', 'a', 'a', 'a', 'a', 'c', 'c', 'c', 'c', 'c', 'c', 'c', 'd', 'd', 'd', 'd', 'd', 'd', 'd', 'e', 'e', 'e', 'e', 'e', 'e', 'e', 'e', 'e', 'e', 'e', 'e', 'e', 'e', 'e', 'e', 'e', 'e', 'e', 'e', 'e', 'e', 'e', 'e', 'e', 'e', 'e', 'e', 'e', 'g', 'g', 'g', 'g', 'g', 'g', 'g', 'i', 'i', 'i', 'i', 'i', 'i', 'i', 'i', 'l', 'l', 'l', 'l', 'l', 'l', 'l', 'l', 'l', 'l', 'l', 'l', 'l', 'l', 'l', 'n', 'n', 'n', 'n', 'n', 'n', 'n', 'n', 'o', 'o', 'o', 'o', 'o', 'o', 'o', 'o', 'o', 'o', 'o', 'o', 'o', 'o', 'p', 'p', 'p', 'p', 'p', 'p', 'p', 'r', 'r', 'r', 'r', 'r', 'r', 'r', 'r', 'r', 'r', 'r', 'r', 'r', 'r', 'r', 'r', 'r', 'r', 'r', 'r', 'r', 'r', 'r', 'r', 'r', 'r', 'r', 'r', 's', 's', 's', 's', 's', 's', 's', 's', 's', 's', 's', 's', 's', 's', 's', 't', 't', 't', 't', 't', 't', 't', 't', 't', 't', 't', 't', 't', 't', 't', 'w', 'w', 'w', 'w', 'w', 'w', 'w']\n"
          ]
        }
      ]
    },
    {
      "cell_type": "code",
      "source": [
        "#5 . write a code to find all occurences of a given substring within another string\n",
        "string =\"The quick brown fox jumps over a lazy dog \"\n",
        "substring =\"the\"\n",
        "indices = []\n",
        "start = 0\n",
        "while True :\n",
        "  strat = string.find(substring,start)\n",
        "  if start == -1 :\n",
        "    break\n",
        "  indices.append(start)\n",
        "  start +=1\n",
        "print(indices)\n"
      ],
      "metadata": {
        "id": "jqhXItOSnYa2"
      },
      "execution_count": null,
      "outputs": []
    },
    {
      "cell_type": "code",
      "source": [
        "# 6. write a code to perform basics string compression using the counts of repeated characters\n",
        "string = \"aabcccccaaa\"\n",
        "compressed = \"\"\n",
        "count = 1\n",
        "for i in range(len(string)):\n",
        "  if i == len(string) -1 or string[i] !=string[i+1]:\n",
        "    compressed +=string[i] + str(count)\n",
        "    count =1\n",
        "  else:\n",
        "    count +=1\n",
        "  print(compressed)\n"
      ],
      "metadata": {
        "colab": {
          "base_uri": "https://localhost:8080/"
        },
        "id": "8Wth9393n9af",
        "outputId": "15e33345-8748-4cef-d53b-ca98fde6aed9"
      },
      "execution_count": null,
      "outputs": [
        {
          "output_type": "stream",
          "name": "stdout",
          "text": [
            "\n",
            "a2\n",
            "a2b1\n",
            "a2b1\n",
            "a2b1\n",
            "a2b1\n",
            "a2b1\n",
            "a2b1c5\n",
            "a2b1c5\n",
            "a2b1c5\n",
            "a2b1c5a3\n"
          ]
        }
      ]
    },
    {
      "cell_type": "code",
      "source": [
        "#7.write a code to determine if a string has all uique charactrs\n",
        "string = \"abcde\"\n",
        "char_set = set()\n",
        "has_unique_chars = True\n",
        "for char in string :\n",
        "  if char in char_set:\n",
        "    has_unique_chars = false\n",
        "    break\n",
        "  char_set.add(char)\n",
        "print(has_unique_chars)\n",
        "\n",
        "\n"
      ],
      "metadata": {
        "colab": {
          "base_uri": "https://localhost:8080/"
        },
        "id": "btDpB3POpn6J",
        "outputId": "1cfc87c1-8ca6-4150-9df2-1dea5ef41bae"
      },
      "execution_count": null,
      "outputs": [
        {
          "output_type": "stream",
          "name": "stdout",
          "text": [
            "True\n"
          ]
        }
      ]
    },
    {
      "cell_type": "code",
      "source": [
        "#8. write a code to convert a given string to uppercase or lowercase\n",
        "string = \"Hello,World\"\n",
        "case = \"upper\"\n",
        "if case == \"upper\":\n",
        "  converted_string = string.upper()\n",
        "elif case == \"lower\":\n",
        "   converted_string = string.lower()\n",
        "else:\n",
        "  converted_string = string\n",
        "print(converted_string)\n"
      ],
      "metadata": {
        "colab": {
          "base_uri": "https://localhost:8080/"
        },
        "id": "Iz5fZ_uMqUM0",
        "outputId": "5d8156f7-e6bb-4bc3-a1d4-5925ce7fdee8"
      },
      "execution_count": null,
      "outputs": [
        {
          "output_type": "stream",
          "name": "stdout",
          "text": [
            "HELLO,WORLD\n"
          ]
        }
      ]
    },
    {
      "cell_type": "code",
      "source": [
        "# 9. Write a code to count the numbers of words in a string\n",
        "string =\"Hello,World!This is a sample string.\"\n",
        "words = string.split()\n",
        "word_count = len(words)\n",
        "print(word_count)"
      ],
      "metadata": {
        "colab": {
          "base_uri": "https://localhost:8080/"
        },
        "id": "JnOUCxI1sgIH",
        "outputId": "63981b1a-6af6-418f-973b-ac66b3a82649"
      },
      "execution_count": null,
      "outputs": [
        {
          "output_type": "stream",
          "name": "stdout",
          "text": [
            "5\n"
          ]
        }
      ]
    },
    {
      "cell_type": "code",
      "source": [
        "# 10. write a code to concatenate two string without using the + operator\n",
        "\n",
        "string1 = \"Hello\"\n",
        "string2 = \"world\"\n",
        "concatenated_string =\"\".join([string1,string2])\n",
        "print(concatenated_string)"
      ],
      "metadata": {
        "colab": {
          "base_uri": "https://localhost:8080/"
        },
        "id": "Dp_fDBKotKUo",
        "outputId": "9c6bad9b-e1b8-4967-b1b2-7ea99259080b"
      },
      "execution_count": null,
      "outputs": [
        {
          "output_type": "stream",
          "name": "stdout",
          "text": [
            "Helloworld\n"
          ]
        }
      ]
    },
    {
      "cell_type": "code",
      "source": [
        "#11.Write a code to remove all occurrences of a specific element form a list\n",
        "lst = [1,2,3,4,5,3,3]\n",
        "element = 3\n",
        "new_list = [item for item in lst if item!=element]\n",
        "print(new_list)\n",
        "\n"
      ],
      "metadata": {
        "colab": {
          "base_uri": "https://localhost:8080/"
        },
        "id": "96z50lx2tne2",
        "outputId": "c69f2abd-db0d-438e-c286-9be119131e77"
      },
      "execution_count": null,
      "outputs": [
        {
          "output_type": "stream",
          "name": "stdout",
          "text": [
            "[1, 2, 4, 5]\n"
          ]
        }
      ]
    },
    {
      "cell_type": "code",
      "source": [
        "#12.Implement a code to find the second largest number in given list of integers\n",
        "lst = [10,5,8,20,15]\n",
        "if len(lst)<2:\n",
        "  second_largest =None\n",
        "else:\n",
        "  largest = max(lst)\n",
        "  lst.remove(largest)\n",
        "  second_largest = max(lst)\n",
        "print(second_largest)"
      ],
      "metadata": {
        "colab": {
          "base_uri": "https://localhost:8080/"
        },
        "id": "JhWEWy40uqJR",
        "outputId": "b755057e-60bb-44c3-e5f9-c6bbc746ea54"
      },
      "execution_count": null,
      "outputs": [
        {
          "output_type": "stream",
          "name": "stdout",
          "text": [
            "15\n"
          ]
        }
      ]
    },
    {
      "cell_type": "code",
      "source": [
        "#13. Create a code to count the occurrence of each element in a list and return a dictionary with elements as keys and their counts as values\n",
        "lst = [1,2,3,2,4,1,5,1]\n",
        "freq_dict = {}\n",
        "for item in lst:\n",
        "  if item in freq_dict:\n",
        "    freq_dict[item]+=1\n",
        "  else:\n",
        "    freq_dict[item] = 1\n",
        "print(freq_dict)"
      ],
      "metadata": {
        "colab": {
          "base_uri": "https://localhost:8080/"
        },
        "id": "udu8z6HZvZFq",
        "outputId": "81e910f2-5851-453a-ca2d-3a7c870b4e9f"
      },
      "execution_count": null,
      "outputs": [
        {
          "output_type": "stream",
          "name": "stdout",
          "text": [
            "{1: 3, 2: 2, 3: 1, 4: 1, 5: 1}\n"
          ]
        }
      ]
    },
    {
      "cell_type": "code",
      "source": [
        "#14. Write a code to reverse a list in-place without using any built-in reverse funtions\n",
        "lst = [1,2,3,4,5]\n",
        "left = 0\n",
        "right = len (lst) -1\n",
        "while left < right:\n",
        "  lst[left],lst[right] = lst[right],lst[left]\n",
        "  left +=1\n",
        "  right -=1\n",
        "print(lst)"
      ],
      "metadata": {
        "colab": {
          "base_uri": "https://localhost:8080/"
        },
        "id": "DgMQyHDwwdlg",
        "outputId": "287905ba-1671-41fc-bb93-2bd12bcf745e"
      },
      "execution_count": null,
      "outputs": [
        {
          "output_type": "stream",
          "name": "stdout",
          "text": [
            "[5, 4, 3, 2, 1]\n"
          ]
        }
      ]
    },
    {
      "cell_type": "code",
      "source": [
        "#15. implement a code to find and remove dplicates from a list while preserving the original order of element\n",
        "lst = [1,2,3,2,4,1,5]\n",
        "seen = set()\n",
        "result =[]\n",
        "for item in lst:\n",
        "  if item not in seen:\n",
        "    seen.add(item)\n",
        "    result.append(item)\n",
        "print(result)"
      ],
      "metadata": {
        "colab": {
          "base_uri": "https://localhost:8080/"
        },
        "id": "RkE2lgGmxp4B",
        "outputId": "729f24f5-cdf7-4bca-8d06-871ef1b6bb05"
      },
      "execution_count": null,
      "outputs": [
        {
          "output_type": "stream",
          "name": "stdout",
          "text": [
            "[1, 2, 3, 4, 5]\n"
          ]
        }
      ]
    },
    {
      "cell_type": "code",
      "source": [
        "#16.Create a code to check if a given list is sorted (either in ascending or dscending order)or not\n",
        "lst = [1,2,3,4,5]\n",
        "ascending = all(lst[i]<=lst[i+1]for i in range(len(lst)-1))\n",
        "descending = all(lst[i]<=lst[i+1]for i in range(len(lst)-1))\n",
        "is_sorted = ascending or descending\n",
        "print(is_sorted)\n"
      ],
      "metadata": {
        "colab": {
          "base_uri": "https://localhost:8080/"
        },
        "id": "OVMeS8ETykBp",
        "outputId": "e39fc396-ee30-4f01-d423-de9b982a44c0"
      },
      "execution_count": null,
      "outputs": [
        {
          "output_type": "stream",
          "name": "stdout",
          "text": [
            "True\n"
          ]
        }
      ]
    },
    {
      "cell_type": "code",
      "source": [
        "#17. write a code to merge two sorted lists into a single sorted list\n",
        "lst1 = [1,3,5]\n",
        "lst2 = [2,4,6]\n",
        "merged =[]\n",
        "i,j =0,0\n",
        "while i<len(lst1)and j<len(lst2):\n",
        "  if lst1[i]<=lst2[i]:\n",
        "    merged.append(lst1[i])\n",
        "    i +=1\n",
        "  else:\n",
        "    mergedd.append(lst2[i])\n",
        "    j +=1\n",
        "merged.extend(lst1[i:])\n",
        "merged.extend(lst2[j:])\n",
        "print(merged)"
      ],
      "metadata": {
        "colab": {
          "base_uri": "https://localhost:8080/"
        },
        "id": "IkpDRWkKz2l4",
        "outputId": "558c5486-3f85-4622-c26c-987580e12e7b"
      },
      "execution_count": null,
      "outputs": [
        {
          "output_type": "stream",
          "name": "stdout",
          "text": [
            "[1, 3, 5, 2, 4, 6]\n"
          ]
        }
      ]
    },
    {
      "cell_type": "code",
      "source": [
        "#18. implement a code to find the intersection of two given lists\n",
        "lst1 =[1,2,3,4,5]\n",
        "lst2 =[4,5,6,7,8]\n",
        "intersection = list(set(lst1)&set(lst2))\n",
        "print(intersection)"
      ],
      "metadata": {
        "colab": {
          "base_uri": "https://localhost:8080/"
        },
        "id": "d9NCOtib0eAx",
        "outputId": "08fb3ebd-0452-44d1-c15a-59d9cc868877"
      },
      "execution_count": null,
      "outputs": [
        {
          "output_type": "stream",
          "name": "stdout",
          "text": [
            "[4, 5]\n"
          ]
        }
      ]
    },
    {
      "cell_type": "code",
      "source": [
        "#19.create a code to union of two lists without duplicates\n",
        "lst1 =[1,2,3,4,5]\n",
        "lst2 =[4,5,6,7,8]\n",
        "union = list(set(lst1) | set(lst2))\n",
        "print(union)"
      ],
      "metadata": {
        "colab": {
          "base_uri": "https://localhost:8080/"
        },
        "id": "rbnoHWhN1bje",
        "outputId": "5d98c4a0-e228-4b86-ab0c-557a034d7341"
      },
      "execution_count": null,
      "outputs": [
        {
          "output_type": "stream",
          "name": "stdout",
          "text": [
            "[1, 2, 3, 4, 5, 6, 7, 8]\n"
          ]
        }
      ]
    },
    {
      "cell_type": "code",
      "source": [
        "#20. write a code to shuffle a given list randomly without using any built-in huffle functions import random\n",
        "import random\n",
        "lst = [1,2,3,4,5]\n",
        "shuffled = lst.copy()\n",
        "for i in range(len(shuffled)):\n",
        "  j = random.randint(i,len(shuffled)-1)\n",
        "  shuffled[i],shuffled[j] = shuffled[j],shuffled[i]\n",
        "  print(shuffled)"
      ],
      "metadata": {
        "colab": {
          "base_uri": "https://localhost:8080/"
        },
        "id": "Pa4WpAWy13PW",
        "outputId": "bad6a3ad-5663-4b00-dff8-a4a3f7e5864c"
      },
      "execution_count": null,
      "outputs": [
        {
          "output_type": "stream",
          "name": "stdout",
          "text": [
            "[2, 1, 3, 4, 5]\n",
            "[2, 4, 3, 1, 5]\n",
            "[2, 4, 1, 3, 5]\n",
            "[2, 4, 1, 3, 5]\n",
            "[2, 4, 1, 3, 5]\n"
          ]
        }
      ]
    },
    {
      "cell_type": "code",
      "source": [
        "#21.write a code that takes two tuples as input and returns a new tuple containing element that are common to both input tuples\n",
        "tuple1 =(1,2,3,4,5)\n",
        "tuple2 =(4,5,6,7,8)\n",
        "common_element = tuple(set(tuple1) & set(tuple2))\n",
        "print(common_element)"
      ],
      "metadata": {
        "colab": {
          "base_uri": "https://localhost:8080/"
        },
        "id": "ulC_-xIn2mvq",
        "outputId": "4e9d632c-7199-430c-df51-9ac69d23ba4f"
      },
      "execution_count": null,
      "outputs": [
        {
          "output_type": "stream",
          "name": "stdout",
          "text": [
            "(4, 5)\n"
          ]
        }
      ]
    },
    {
      "cell_type": "code",
      "source": [
        "#22. Create a code that prompts the user a enter two sets of integers separated by commas.Then ,print the intersection of these two sets\n",
        "set1_input=input(\"Enter first set of integers separated by commas:\")\n",
        "try:\n",
        "  set1 = set(map(int,set1_input.split(' , ')))\n",
        "except valueError :\n",
        "  print(\"Invalide input for the first set.please enter integers separated by commas.\")\n",
        "  exit()\n",
        "\n",
        "set2_input=input(\"Enter another set of integer separated by commas:\")\n",
        "try:\n",
        "  set2 = set(map(int,set2_input.split(',')))\n",
        "except valueError:\n",
        "  print(\"Invalide input for the second set.please enter integers separated by commas.\")\n",
        "  exit()\n",
        "intersection = set1.intersection(set2)\n",
        "\n"
      ],
      "metadata": {
        "id": "BYWucM4l4bDP"
      },
      "execution_count": null,
      "outputs": []
    },
    {
      "cell_type": "code",
      "source": [
        "#23. write a code to concatenate two tuples the function should taks two tuples as input and return a nem tupel containig elements from boyh input tuple\n",
        "tuple1 = (1,2,3)\n",
        "tuple2 = (4,5,6)\n",
        "concatenated_tuple = tuple1 + tuple2"
      ],
      "metadata": {
        "id": "DdO7PO6G5iEj"
      },
      "execution_count": null,
      "outputs": []
    },
    {
      "cell_type": "code",
      "source": [
        "concatenated_tuple"
      ],
      "metadata": {
        "colab": {
          "base_uri": "https://localhost:8080/"
        },
        "id": "cgpkzYIi6gLK",
        "outputId": "e7ebaabe-c33b-4a21-c969-45f2bfdba295"
      },
      "execution_count": null,
      "outputs": [
        {
          "output_type": "execute_result",
          "data": {
            "text/plain": [
              "(1, 2, 3, 4, 5, 6)"
            ]
          },
          "metadata": {},
          "execution_count": 36
        }
      ]
    },
    {
      "cell_type": "code",
      "source": [
        "#24. Develope a code that prompts the user to input two sets of strings. Then,print the element that are present in the first set but not in the second set\n",
        "set1 = set(input(\"Enter element of the first set(separated by spaces):\").split())\n",
        "set2 = set(input(\"Enter element of the second set(separated by spaces):\").split())\n",
        "\n",
        "diff_set = set1.difference(set)\n",
        "\n",
        "if diff_set:\n",
        "  print(\"Element present in the first set but not in the second set:\")\n",
        "  for element in diff_set:\n",
        "    print(element)\n",
        "else:\n",
        "    print(\"There are no elements present in the first set but not in the second set.\")\n",
        "\n"
      ],
      "metadata": {
        "colab": {
          "base_uri": "https://localhost:8080/",
          "height": 245
        },
        "id": "V2XMHekW6u03",
        "outputId": "51599d26-6c1b-4e11-bf6b-4b720830fe7a"
      },
      "execution_count": null,
      "outputs": [
        {
          "name": "stdout",
          "output_type": "stream",
          "text": [
            "Enter a set of integer separated by commas:{11,1,1,1,}\n",
            "Enter another set of integer separated by commas:{11111}\n"
          ]
        },
        {
          "output_type": "error",
          "ename": "AttributeError",
          "evalue": "'str' object has no attribute 'spilt'",
          "traceback": [
            "\u001b[0;31m---------------------------------------------------------------------------\u001b[0m",
            "\u001b[0;31mAttributeError\u001b[0m                            Traceback (most recent call last)",
            "\u001b[0;32m<ipython-input-37-27a905cf5c9c>\u001b[0m in \u001b[0;36m<cell line: 4>\u001b[0;34m()\u001b[0m\n\u001b[1;32m      2\u001b[0m \u001b[0mset1_input\u001b[0m\u001b[0;34m=\u001b[0m\u001b[0minput\u001b[0m\u001b[0;34m(\u001b[0m\u001b[0;34m\"Enter a set of integer separated by commas:\"\u001b[0m\u001b[0;34m)\u001b[0m\u001b[0;34m\u001b[0m\u001b[0;34m\u001b[0m\u001b[0m\n\u001b[1;32m      3\u001b[0m \u001b[0mset2_input\u001b[0m\u001b[0;34m=\u001b[0m\u001b[0minput\u001b[0m\u001b[0;34m(\u001b[0m\u001b[0;34m\"Enter another set of integer separated by commas:\"\u001b[0m\u001b[0;34m)\u001b[0m\u001b[0;34m\u001b[0m\u001b[0;34m\u001b[0m\u001b[0m\n\u001b[0;32m----> 4\u001b[0;31m \u001b[0mset1\u001b[0m \u001b[0;34m=\u001b[0m \u001b[0mset\u001b[0m\u001b[0;34m(\u001b[0m\u001b[0mmap\u001b[0m\u001b[0;34m(\u001b[0m\u001b[0mint\u001b[0m\u001b[0;34m,\u001b[0m\u001b[0mset1_input\u001b[0m\u001b[0;34m.\u001b[0m\u001b[0mspilt\u001b[0m\u001b[0;34m(\u001b[0m\u001b[0;34m','\u001b[0m\u001b[0;34m)\u001b[0m\u001b[0;34m)\u001b[0m\u001b[0;34m)\u001b[0m\u001b[0;34m\u001b[0m\u001b[0;34m\u001b[0m\u001b[0m\n\u001b[0m\u001b[1;32m      5\u001b[0m \u001b[0mset2\u001b[0m \u001b[0;34m=\u001b[0m \u001b[0mset\u001b[0m\u001b[0;34m(\u001b[0m\u001b[0mmap\u001b[0m\u001b[0;34m(\u001b[0m\u001b[0mint\u001b[0m\u001b[0;34m,\u001b[0m\u001b[0mset2_input\u001b[0m\u001b[0;34m.\u001b[0m\u001b[0msplit\u001b[0m\u001b[0;34m(\u001b[0m\u001b[0;34m','\u001b[0m\u001b[0;34m)\u001b[0m\u001b[0;34m)\u001b[0m\u001b[0;34m)\u001b[0m\u001b[0;34m\u001b[0m\u001b[0;34m\u001b[0m\u001b[0m\n\u001b[1;32m      6\u001b[0m \u001b[0mdifference\u001b[0m\u001b[0;34m=\u001b[0m \u001b[0mset1\u001b[0m \u001b[0;34m-\u001b[0m \u001b[0mset2\u001b[0m\u001b[0;34m\u001b[0m\u001b[0;34m\u001b[0m\u001b[0m\n",
            "\u001b[0;31mAttributeError\u001b[0m: 'str' object has no attribute 'spilt'"
          ]
        }
      ]
    },
    {
      "cell_type": "code",
      "source": [
        "#25. create a code thatr takes a tuple and two integers as inpue the fnction should retuen a new tupel containig element form the original tuple within the specified range od indices.\n",
        "tup = (1,2,3,4,5,6,7,8,9,10)\n",
        "start =2\n",
        "end =6\n",
        "sliced_tuple = tup[start:end]\n",
        "print(sliced_tuple)"
      ],
      "metadata": {
        "colab": {
          "base_uri": "https://localhost:8080/"
        },
        "id": "nHtjJdSM7t9M",
        "outputId": "84d52a43-8bdb-41a6-f64b-5d6fe638d598"
      },
      "execution_count": null,
      "outputs": [
        {
          "output_type": "stream",
          "name": "stdout",
          "text": [
            "(3, 4, 5, 6)\n"
          ]
        }
      ]
    },
    {
      "cell_type": "code",
      "source": [
        "#26. wriet a code that prompts the user a iput two sets of characters then print the union of these two sets.\n",
        "set1=input(\"Enter first set of character:\")\n",
        "set2=input(\"Enter another set of character:\")\n",
        "union_set= set1.union(set2)\n",
        "print(f\"The union of the two sets is:\",union_set)\n"
      ],
      "metadata": {
        "id": "7-rP8iBC8iHq"
      },
      "execution_count": null,
      "outputs": []
    },
    {
      "cell_type": "code",
      "source": [
        "#27. develop a code that takes a tuple of integers as input.The function should return the maximum and minimum values from the tuple using tuple unpacking.\n",
        "tup = tuple(map(int,input(\"Enter a tuple of integers separarted by commas:\").split(',')))\n",
        "min_val,max_val = min(tup),max(tup)\n",
        "print(f\"Minimum value : {min_val},Maximum value:{max_val}\")"
      ],
      "metadata": {
        "id": "Lq0851IH9KzK"
      },
      "execution_count": null,
      "outputs": []
    },
    {
      "cell_type": "code",
      "source": [
        "#28. Create a code that defines two sets of integers then print the union intersection and difference of these two sets\n",
        "set1 = {1,2,3,4,5}\n",
        "set2 = {4,5,6,7,8}\n",
        "union = set1 |set2\n",
        "intersection = set1 & set2\n",
        "difference1 = set1-set2\n",
        "difference2 = set2 -set1\n",
        "print(f\"Union:{union}\")\n",
        "print(f\"Intersection:{intersection}\")\n",
        "print(f\"Difference(set1 -set2):{difference1}\")\n",
        "print(f\"Difference(set2 - set2):{difference2}\")\n"
      ],
      "metadata": {
        "colab": {
          "base_uri": "https://localhost:8080/"
        },
        "id": "3EPBZLpH99tp",
        "outputId": "8935ab5b-b3a7-410e-aab9-0ecdadef618d"
      },
      "execution_count": null,
      "outputs": [
        {
          "output_type": "stream",
          "name": "stdout",
          "text": [
            "Union:{1, 2, 3, 4, 5, 6, 7, 8}\n",
            "Intersection:{4, 5}\n",
            "Difference(set1 -set2):{1, 2, 3}\n",
            "Difference(set2 - set2):{8, 6, 7}\n"
          ]
        }
      ]
    },
    {
      "cell_type": "code",
      "source": [
        "#29. Write a code that takes a tuple and an element as input. The function should return the count of occurrence of the given element in the tuple\n",
        "tup = (1,2,3,2,4,1,5,1)\n",
        "element = 1\n",
        "count = tup.count(element)\n",
        "print(f\"The element{element}appears{count}times in the tuple.\")"
      ],
      "metadata": {
        "colab": {
          "base_uri": "https://localhost:8080/"
        },
        "id": "xzWpfDOYAEHa",
        "outputId": "e9501018-bfe9-4779-9142-b554cae35d92"
      },
      "execution_count": null,
      "outputs": [
        {
          "output_type": "stream",
          "name": "stdout",
          "text": [
            "The element1appears3times in the tuple.\n"
          ]
        }
      ]
    },
    {
      "cell_type": "code",
      "source": [
        "#30.develope a code that prompts the user to input two sets of strings.then print the symmetric differece of thses two sets\n",
        "set1_input = input(\"Enter a set of strings separated by commas:\")\n",
        "set2_input = input(\"Enter another set of strings separated by commas:\")\n",
        "set1 = set(set1_input.split(','))\n",
        "set2 = set(set2_input.split(','))\n",
        "symmetric_difference = set1 ^ set2\n",
        "print(f\"The symmetric difference of the two sets is :{symmetric_difference}\")"
      ],
      "metadata": {
        "colab": {
          "base_uri": "https://localhost:8080/"
        },
        "id": "SDbVPHApAqJZ",
        "outputId": "21ade98e-e928-4977-9290-aa89e5edb2a8"
      },
      "execution_count": null,
      "outputs": [
        {
          "output_type": "stream",
          "name": "stdout",
          "text": [
            "Enter a set of strings separated by commas:('1','2','3','4')\n",
            "Enter another set of strings separated by commas:('5','6','7','8')\n",
            "The symmetric difference of the two sets is :{\"'6'\", \"('5'\", \"'8')\", \"'2'\", \"'4')\", \"('1'\", \"'7'\", \"'3'\"}\n"
          ]
        }
      ]
    },
    {
      "cell_type": "code",
      "source": [
        "#31. write a code that takes a list of words as input and returs a dictonary where the keys are unique words and the values are the frequencies of those words in the  input list.\n",
        "words = input(\"Enter a list of words separated by commas:\").split(',')\n",
        "freq_dict = {}\n",
        "for word in words :\n",
        "  if word in freq_dict:\n",
        "    freq_dict[word] +=1\n",
        "  else:\n",
        "    freq_dict[word] = 1\n",
        "print(freq_dict)\n"
      ],
      "metadata": {
        "id": "bG5jlYR6BoOQ"
      },
      "execution_count": null,
      "outputs": []
    },
    {
      "cell_type": "code",
      "source": [
        "#32.write a code that takes two dictionaries as input and merges them into a single dictionary.if there are common keys,the the values should be added together.\n",
        "dict1 = {'a':1,'b':2,'c':3}\n",
        "dict2 = {'c':4,'d':5,'e':6}\n",
        "merged = dict1.copy()\n",
        "for key,value in dict2.items():\n",
        "  if key in merged:\n",
        "    merged[key]+=value\n",
        "  else:\n",
        "    merged[key]=value\n",
        "  print(merged)"
      ],
      "metadata": {
        "id": "TCiuWCtMDQ6Y"
      },
      "execution_count": null,
      "outputs": []
    },
    {
      "cell_type": "code",
      "source": [
        "#33.write a code to access a value in a nested dictionary.The functin should take the dictionary and a list of keys as input,and return the corresponding value.if any of the keys do not exits in the dictionary the function should return None.\n",
        "nested_dict = {\n",
        "    'a' : {\n",
        "        'b' : {\n",
        "            'c':1,\n",
        "            'd' :2\n",
        "        },\n",
        "        'e':3\n",
        "    },\n",
        "    'f' : 4\n",
        "}\n",
        "\n",
        "keys = ['a','b','c']\n",
        "value = nested_dict\n",
        "for keys in keys:\n",
        "  if isinstance(value,dict):\n",
        "    if key in value:\n",
        "      value = value[key]\n",
        "    else:\n",
        "      value = None\n",
        "      break\n",
        "print(value)"
      ],
      "metadata": {
        "colab": {
          "base_uri": "https://localhost:8080/"
        },
        "id": "tGarDImyFBlh",
        "outputId": "d560dcb3-49ed-4df4-81d1-0934dfade563"
      },
      "execution_count": null,
      "outputs": [
        {
          "output_type": "stream",
          "name": "stdout",
          "text": [
            "None\n"
          ]
        }
      ]
    },
    {
      "cell_type": "code",
      "source": [
        "#34. write a code that takes a dictionary as input and returns a sorted version of it based on the values you can choose whether to sort in ascending or descending order\n",
        "dictionary ={'a':5,'b':2,'c':8,'d':1,'e':3}\n",
        "order = 'descending'\n",
        "sorted_dict =sorted(dictionary.items(),key=lambda x:x[1],reverse=(order=='descending'))\n",
        "print(dict(sorted_dict))"
      ],
      "metadata": {
        "colab": {
          "base_uri": "https://localhost:8080/"
        },
        "id": "8zoXxgAsG8QE",
        "outputId": "7c468faa-2372-4991-cad5-070ab1a18f6e"
      },
      "execution_count": null,
      "outputs": [
        {
          "output_type": "stream",
          "name": "stdout",
          "text": [
            "{'c': 8, 'a': 5, 'e': 3, 'b': 2, 'd': 1}\n"
          ]
        }
      ]
    },
    {
      "cell_type": "code",
      "source": [
        "#35. Write a code that inverts a dictionary ,swapping keys and values.Ensure that the inverted dictionary correctil handles cases where multiple keys have the same value by storing the keys as a list in the inverted dictionary\n",
        "dictionary = {'a':1,'b':2,'c':2,'d':3}\n",
        "inverted ={}\n",
        "for key,value in dictionary.items():\n",
        "  if value in inverted:\n",
        "    inverted[value].append(key)\n",
        "  else:\n",
        "    inverted[value] = [key]\n",
        "print(inverted)"
      ],
      "metadata": {
        "colab": {
          "base_uri": "https://localhost:8080/"
        },
        "id": "3EAiI7rMIUqy",
        "outputId": "f073ebf0-5800-4819-c318-00ae1f568d06"
      },
      "execution_count": null,
      "outputs": [
        {
          "output_type": "stream",
          "name": "stdout",
          "text": [
            "{1: ['a'], 2: ['b', 'c'], 3: ['d']}\n"
          ]
        }
      ]
    },
    {
      "cell_type": "code",
      "source": [],
      "metadata": {
        "id": "6KFnScwcJn2B"
      },
      "execution_count": null,
      "outputs": []
    }
  ]
}